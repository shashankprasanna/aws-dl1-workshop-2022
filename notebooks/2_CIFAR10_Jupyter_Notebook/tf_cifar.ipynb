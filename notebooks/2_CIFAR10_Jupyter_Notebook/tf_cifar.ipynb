{
 "cells": [
  {
   "cell_type": "markdown",
   "id": "irish-scheduling",
   "metadata": {},
   "source": [
    "# TensorFlow Keras CIFAR10 Example on Habana Gaudi<sup>TM</sup>\n",
    "\n",
    "This Jupyter Notebook example demonstrates how to train a simple neural network on Habana Gaudi<sup>TM</sup> card. The neural network is built with Keras APIs, and trained with CIFAR10 dataset.\n"
   ]
  },
  {
   "cell_type": "markdown",
   "id": "16a3ef85",
   "metadata": {},
   "source": [
    "We will clone Habana `Model-References` repository 0.15.4 branch to the current directory."
   ]
  },
  {
   "cell_type": "code",
   "execution_count": null,
   "id": "postal-productivity",
   "metadata": {},
   "outputs": [],
   "source": [
    "import tensorflow as tf\n",
    "tf.compat.v1.disable_eager_execution()"
   ]
  },
  {
   "cell_type": "code",
   "execution_count": null,
   "id": "aab425a9-ee3e-407c-9e07-bb23165d2f7a",
   "metadata": {},
   "outputs": [],
   "source": [
    "!git clone -b 0.15.4 https://github.com/HabanaAI/Model-References.git"
   ]
  },
  {
   "cell_type": "code",
   "execution_count": null,
   "id": "ee1628a1-3244-455e-aea6-b6cc4d4c62f0",
   "metadata": {},
   "outputs": [],
   "source": [
    "import sys\n",
    "sys.path.append('./Model-References')"
   ]
  },
  {
   "cell_type": "code",
   "execution_count": null,
   "id": "large-content",
   "metadata": {},
   "outputs": [],
   "source": [
    "from TensorFlow.common.library_loader import load_habana_module\n",
    "load_habana_module()"
   ]
  },
  {
   "cell_type": "code",
   "execution_count": null,
   "id": "01e4798a-eaec-4e2b-b232-73d43f77d5b4",
   "metadata": {},
   "outputs": [],
   "source": [
    "from tensorflow.keras import datasets, layers, models\n",
    "\n",
    "(train_images, train_labels), (test_images, test_labels) = datasets.cifar10.load_data()\n",
    "train_images, test_images = train_images / 255.0, test_images / 255.0"
   ]
  },
  {
   "cell_type": "code",
   "execution_count": null,
   "id": "487e2967-49bc-4282-afa2-5b95a05629f7",
   "metadata": {},
   "outputs": [],
   "source": [
    "from model_def import get_model\n",
    "model = get_model(input_shape=(32,32,3))"
   ]
  },
  {
   "cell_type": "code",
   "execution_count": null,
   "id": "f3d7a67d-07b7-4171-a3bf-1a312a5958ff",
   "metadata": {},
   "outputs": [],
   "source": [
    "# def get_model():\n",
    "#     model = tf.keras.Sequential(\n",
    "#         [\n",
    "#             tf.keras.layers.Conv2D(64, [3, 3], activation=\"relu\", input_shape=(32, 32, 3)),\n",
    "#             tf.keras.layers.Conv2D(128, [3, 3], activation=\"relu\"),\n",
    "#             tf.keras.layers.Conv2D(128, [3, 3], activation=\"relu\"),\n",
    "#             tf.keras.layers.MaxPooling2D(pool_size=(2, 2)),\n",
    "#             tf.keras.layers.Dropout(0.25),\n",
    "#             tf.keras.layers.Flatten(),\n",
    "#             tf.keras.layers.Dense(128, activation=\"relu\"),\n",
    "#             tf.keras.layers.Dropout(0.5),\n",
    "#             tf.keras.layers.Dense(10, activation=\"softmax\"),\n",
    "#         ]\n",
    "#     )\n",
    "#     return model"
   ]
  },
  {
   "cell_type": "code",
   "execution_count": null,
   "id": "0608a74d-c219-4398-9a5d-7ecf24560c40",
   "metadata": {
    "tags": []
   },
   "outputs": [],
   "source": [
    "%%time\n",
    "\n",
    "opt = tf.optimizers.Adam(0.001)\n",
    "\n",
    "# model = get_model()\n",
    "model.compile(loss=tf.losses.SparseCategoricalCrossentropy(),\n",
    "              optimizer=opt,\n",
    "              metrics=[\"accuracy\"])\n",
    "\n",
    "model.fit(train_images, train_labels, \n",
    "          epochs=2,\n",
    "          batch_size=256,\n",
    "          validation_data=(test_images, test_labels))"
   ]
  },
  {
   "cell_type": "code",
   "execution_count": null,
   "id": "e21cdc66-7c3d-46fb-b3a8-30e613cc4e38",
   "metadata": {},
   "outputs": [],
   "source": []
  }
 ],
 "metadata": {
  "kernelspec": {
   "display_name": "Python 3 (ipykernel)",
   "language": "python",
   "name": "python3"
  },
  "language_info": {
   "codemirror_mode": {
    "name": "ipython",
    "version": 3
   },
   "file_extension": ".py",
   "mimetype": "text/x-python",
   "name": "python",
   "nbconvert_exporter": "python",
   "pygments_lexer": "ipython3",
   "version": "3.7.5"
  }
 },
 "nbformat": 4,
 "nbformat_minor": 5
}
