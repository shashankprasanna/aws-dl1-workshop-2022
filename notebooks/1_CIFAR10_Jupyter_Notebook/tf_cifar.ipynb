{
 "cells": [
  {
   "cell_type": "markdown",
   "id": "irish-scheduling",
   "metadata": {},
   "source": [
    "# TensorFlow Keras CIFAR10 Example on Habana Gaudi<sup>TM</sup>\n",
    "\n",
    "This Jupyter Notebook example demonstrates how to train a simple neural network on Habana Gaudi<sup>TM</sup> card. The neural network is built with Keras APIs, and trained with CIFAR10 dataset.\n"
   ]
  },
  {
   "cell_type": "markdown",
   "id": "16a3ef85",
   "metadata": {},
   "source": [
    "We will clone Habana `Model-References` repository 0.15.4 branch to the current directory."
   ]
  },
  {
   "cell_type": "code",
   "execution_count": null,
   "id": "postal-productivity",
   "metadata": {},
   "outputs": [],
   "source": [
    "import sys\n",
    "import tensorflow as tf\n",
    "tf.compat.v1.disable_eager_execution()"
   ]
  },
  {
   "cell_type": "code",
   "execution_count": null,
   "id": "01e4798a-eaec-4e2b-b232-73d43f77d5b4",
   "metadata": {},
   "outputs": [],
   "source": [
    "from tensorflow.keras import datasets, layers, models\n",
    "\n",
    "(train_images, train_labels), (test_images, test_labels) = datasets.cifar10.load_data()\n",
    "train_images, test_images = train_images / 255.0, test_images / 255.0"
   ]
  },
  {
   "cell_type": "code",
   "execution_count": null,
   "id": "487e2967-49bc-4282-afa2-5b95a05629f7",
   "metadata": {},
   "outputs": [],
   "source": [
    "from model_def import get_model\n",
    "model = get_model(input_shape=(32,32,3))"
   ]
  },
  {
   "cell_type": "markdown",
   "id": "0c4c6fa6-e5e4-4133-9610-1807f5f407a0",
   "metadata": {},
   "source": [
    "## Code changes to run model on Habana"
   ]
  },
  {
   "cell_type": "code",
   "execution_count": null,
   "id": "30905c53-42d7-4823-a8c4-f3986761a6fb",
   "metadata": {},
   "outputs": [],
   "source": [
    "!git clone -b 0.15.4 https://github.com/HabanaAI/Model-References.git"
   ]
  },
  {
   "cell_type": "code",
   "execution_count": null,
   "id": "12152b49-4d96-47e9-813c-0f9a2ba5f94b",
   "metadata": {},
   "outputs": [],
   "source": [
    "sys.path.append('./Model-References')"
   ]
  },
  {
   "cell_type": "code",
   "execution_count": null,
   "id": "1c7f3b4f-ad0d-4deb-b43d-3dd9c25692e7",
   "metadata": {},
   "outputs": [],
   "source": [
    "from TensorFlow.common.library_loader import load_habana_module\n",
    "load_habana_module()"
   ]
  },
  {
   "cell_type": "markdown",
   "id": "3446e01f-691b-4977-bd14-885f90b83c8e",
   "metadata": {},
   "source": [
    "## Train custom model on CIFAR10 dataset"
   ]
  },
  {
   "cell_type": "code",
   "execution_count": null,
   "id": "67ebc9a0-ac53-4b08-906f-e2e6d9bfe7be",
   "metadata": {
    "tags": []
   },
   "outputs": [],
   "source": [
    "opt = tf.optimizers.Adam(0.001)\n",
    "\n",
    "model.compile(loss=tf.losses.SparseCategoricalCrossentropy(),\n",
    "              optimizer=opt,\n",
    "              metrics=[\"accuracy\"])"
   ]
  },
  {
   "cell_type": "code",
   "execution_count": null,
   "id": "70ab1687-f48f-4eb8-bf2a-da5669991882",
   "metadata": {
    "tags": []
   },
   "outputs": [],
   "source": [
    "%%time\n",
    "model.fit(train_images, train_labels, \n",
    "          epochs=20,\n",
    "          batch_size=256,\n",
    "          validation_data=(test_images, test_labels))"
   ]
  },
  {
   "cell_type": "code",
   "execution_count": null,
   "id": "5b08f1eb-c5c5-4757-96e9-e53ae0b79acc",
   "metadata": {},
   "outputs": [],
   "source": []
  }
 ],
 "metadata": {
  "kernelspec": {
   "display_name": "Python 3 (ipykernel)",
   "language": "python",
   "name": "python3"
  },
  "language_info": {
   "codemirror_mode": {
    "name": "ipython",
    "version": 3
   },
   "file_extension": ".py",
   "mimetype": "text/x-python",
   "name": "python",
   "nbconvert_exporter": "python",
   "pygments_lexer": "ipython3",
   "version": "3.7.5"
  }
 },
 "nbformat": 4,
 "nbformat_minor": 5
}
