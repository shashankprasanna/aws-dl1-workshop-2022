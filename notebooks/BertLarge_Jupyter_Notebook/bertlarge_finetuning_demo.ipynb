{
 "cells": [
  {
   "cell_type": "markdown",
   "id": "77991217-afcb-4b04-ad08-3fa7e6489c0a",
   "metadata": {},
   "source": [
    "## Imports"
   ]
  },
  {
   "cell_type": "code",
   "execution_count": null,
   "id": "56c1cd93-953a-436e-858e-9032fcefe753",
   "metadata": {},
   "outputs": [],
   "source": [
    "import sys\n",
    "import os\n",
    "from pathlib import Path\n",
    "import io\n",
    "import socket\n",
    "import argparse\n",
    "import bert_squad_main\n",
    "from central.habana_model_runner_utils import get_canonical_path, get_canonical_path_str, is_valid_multi_node_config, get_multi_node_config_nodes\n",
    "from central.multi_node_utils import run_per_ip\n",
    "import TensorFlow.nlp.bert.download.download_pretrained_model as download_pretrained_model\n",
    "from TensorFlow.common.common import setup_jemalloc\n",
    "from TensorFlow.nlp.bert.demo_bert import *"
   ]
  },
  {
   "cell_type": "markdown",
   "id": "0bead4b5-d28a-46f6-828d-9b116f76462d",
   "metadata": {},
   "source": [
    "## Customize training options"
   ]
  },
  {
   "cell_type": "code",
   "execution_count": null,
   "id": "bd137794-3c72-4816-aeee-128212c64660",
   "metadata": {},
   "outputs": [],
   "source": [
    "# choose between 'finetuning' or 'pretraining'\n",
    "command =  \"finetuning\"\n",
    "\n",
    "# choose between 'tiny', 'mini', 'small', 'medium', 'base', or 'large'\n",
    "model_variant = \"large\"\n",
    "\n",
    "# choose between \"fp32\" or \"bf16\"\n",
    "data_type = \"bf16\"\n",
    "\n",
    "# leave as \"squad\" for now\n",
    "test_set = \"squad\"\n",
    "\n",
    "# path to the squad dataset\n",
    "dataset_path = \"/nfs/pvc-datasets-research/processed/tf/bert/squad/\"\n",
    "\n",
    "# change working directory so code picks up checkpoints\n",
    "os.chdir('/cnvrg/TensorFlow/nlp/bert')"
   ]
  },
  {
   "cell_type": "markdown",
   "id": "70cd7f3b-1865-45d9-88b8-6c8e1ceac15a",
   "metadata": {},
   "source": [
    "## Launch Training on Gaudi"
   ]
  },
  {
   "cell_type": "code",
   "execution_count": null,
   "id": "d7899ca9-c0d1-4e79-8160-6430cdad8640",
   "metadata": {
    "tags": []
   },
   "outputs": [],
   "source": [
    "try:\n",
    "    arg_list = [\"--command\", command, \"--model_variant\", model_variant, \"--data_type\", \n",
    "                data_type, \"--test_set\", test_set, \"--dataset_path\", dataset_path]\n",
    "    args = BertArgparser().parse_args(arg_list)\n",
    "\n",
    "    setup_jemalloc()\n",
    "    check_data_type_and_tf_bf16_conversion(args)\n",
    "    check_and_log_synapse_env_vars()\n",
    "    model = get_model(args)\n",
    "    if args.bert_config_dir is not None:\n",
    "      model.pretrained_model = args.bert_config_dir\n",
    "    # This downloads the model on all remote IPs if env variable MULTI_HLS_IPS is set\n",
    "    if args.checkpoint_folder is not None:\n",
    "      print(f\"Using custom model folder: {args.checkpoint_folder}\")\n",
    "    elif args.use_horovod is not None and not args.kubernetes_run:\n",
    "      model.download_pretrained_model(True)\n",
    "    else:\n",
    "      model.download_pretrained_model(False)\n",
    "    the_map = {\n",
    "        \"pretraining\": model.pretraining,\n",
    "        \"finetuning\": model.finetuning\n",
    "    }\n",
    "    the_map[args.command](args)\n",
    "except Exception as exc:\n",
    "  raise RuntimeError(\"Error running finetuning\") from exc"
   ]
  }
 ],
 "metadata": {
  "kernelspec": {
   "display_name": "Python 3 (ipykernel)",
   "language": "python",
   "name": "python3"
  },
  "language_info": {
   "codemirror_mode": {
    "name": "ipython",
    "version": 3
   },
   "file_extension": ".py",
   "mimetype": "text/x-python",
   "name": "python",
   "nbconvert_exporter": "python",
   "pygments_lexer": "ipython3",
   "version": "3.8.10"
  }
 },
 "nbformat": 4,
 "nbformat_minor": 5
}
