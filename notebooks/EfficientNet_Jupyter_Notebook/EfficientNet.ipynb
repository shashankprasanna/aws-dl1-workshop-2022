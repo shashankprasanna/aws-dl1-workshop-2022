{
 "cells": [
  {
   "cell_type": "markdown",
   "id": "d530e585",
   "metadata": {},
   "source": [
    "# Migrating TensorFlow EfficientNet to Habana Gaudi<sup>TM</sup>"
   ]
  },
  {
   "cell_type": "markdown",
   "id": "372a928f",
   "metadata": {},
   "source": [
    "In this Jupyter notebook, we will learn how to migrate EfficientNet in public TensorFlow [model garden](https://github.com/tensorflow/models/tree/master/official/vision/image_classification) to Habana Gaudi<sup>TM</sup> device with very limited code changes. We will first modify an existing YAML configuration file for GPU and enable the model training on CPU. Then we will add code to the training script to load Habana software modules and enable it on HPU."
   ]
  },
  {
   "cell_type": "markdown",
   "id": "073c4547",
   "metadata": {},
   "source": [
    "## Check current directory"
   ]
  },
  {
   "cell_type": "code",
   "execution_count": null,
   "id": "904c9ba3",
   "metadata": {},
   "outputs": [],
   "source": [
    "%pwd"
   ]
  },
  {
   "cell_type": "markdown",
   "id": "3b71532f",
   "metadata": {},
   "source": [
    "## Clone TensorFlow [models](https://github.com/tensorflow/models.git)  repository to the current directory"
   ]
  },
  {
   "cell_type": "code",
   "execution_count": null,
   "id": "95020dd2",
   "metadata": {},
   "outputs": [],
   "source": [
    "!git clone https://github.com/tensorflow/models.git"
   ]
  },
  {
   "cell_type": "markdown",
   "id": "44ba6893",
   "metadata": {},
   "source": [
    "## Clone Habana [Model-References](https://github.com/HabanaAI/Model-References.git) repository branch 0.15.4 to the current directory"
   ]
  },
  {
   "cell_type": "code",
   "execution_count": null,
   "id": "487a27e6",
   "metadata": {},
   "outputs": [],
   "source": [
    "!git clone -b 0.15.4 https://github.com/HabanaAI/Model-References.git"
   ]
  },
  {
   "cell_type": "markdown",
   "id": "591b7252",
   "metadata": {},
   "source": [
    "## Check the repositories were cloned successfully"
   ]
  },
  {
   "cell_type": "code",
   "execution_count": null,
   "id": "6a9e909d",
   "metadata": {},
   "outputs": [],
   "source": [
    "%ls"
   ]
  },
  {
   "cell_type": "markdown",
   "id": "86a6d3cd",
   "metadata": {},
   "source": [
    "## Check current PYTHONPATH"
   ]
  },
  {
   "cell_type": "code",
   "execution_count": null,
   "id": "25957b5d",
   "metadata": {},
   "outputs": [],
   "source": [
    "%env PYTHONPATH"
   ]
  },
  {
   "cell_type": "markdown",
   "id": "a5a1ad29",
   "metadata": {},
   "source": [
    "## Add TensorFlow Models repository location and Habana Model-References repository location to the PYTHONPATH"
   ]
  },
  {
   "cell_type": "code",
   "execution_count": null,
   "id": "f5844e38",
   "metadata": {},
   "outputs": [],
   "source": [
    "%set_env PYTHONPATH=/root/examples/Model-References:/root/examples/models:/usr/lib/habanalabs/:/root"
   ]
  },
  {
   "cell_type": "markdown",
   "id": "1ab17121",
   "metadata": {},
   "source": [
    "## Check the repository locations are added to the PYTHONPATH"
   ]
  },
  {
   "cell_type": "code",
   "execution_count": null,
   "id": "209403a6",
   "metadata": {},
   "outputs": [],
   "source": [
    "%env PYTHONPATH"
   ]
  },
  {
   "cell_type": "markdown",
   "id": "55dd81de",
   "metadata": {},
   "source": [
    "## We will use Keras EfficientNet at https://github.com/tensorflow/models/tree/master/official/vision/image_classification as the model migration example. First of all, we will enable the model training on CPU."
   ]
  },
  {
   "cell_type": "code",
   "execution_count": null,
   "id": "6602635c",
   "metadata": {},
   "outputs": [],
   "source": [
    "%cd models/official/vision/image_classification"
   ]
  },
  {
   "cell_type": "code",
   "execution_count": null,
   "id": "1d8ceac1",
   "metadata": {},
   "outputs": [],
   "source": [
    "%ls"
   ]
  },
  {
   "cell_type": "markdown",
   "id": "5119e30a",
   "metadata": {},
   "source": [
    "## Enable EfficientNet training on CPU with synthetic data by modifying the following configuration file for GPU:\n",
    "\n",
    "[configs/examples/efficientnet/imagenet/efficientnet-b0-gpu.yaml](../edit/models/official/vision/image_classification/configs/examples/efficientnet/imagenet/efficientnet-b0-gpu.yaml)\n",
    "   * Line 6:  change distribution_strategy to `off`\n",
    "   * Line 7:  change num_gpus to `0`\n",
    "   * Line 11: change builder to `synthetic`\n",
    "   * Line 23: change builder to `synthetic`\n",
    "   * Line 50: insert `steps: 1000`\n",
    "   * Line 51: change epochs to `1`\n",
    "   * Line 53: insert `skip_eval: True`\n",
    "   \n",
    "   Save the file.\n"
   ]
  },
  {
   "cell_type": "markdown",
   "id": "4bf7c9b7",
   "metadata": {},
   "source": [
    "## Run the following command to launch the training on CPU for 1000 iterations. Check the performance from output."
   ]
  },
  {
   "cell_type": "code",
   "execution_count": null,
   "id": "4990eaad",
   "metadata": {},
   "outputs": [],
   "source": [
    "!python3 classifier_trainer.py --mode=train_and_eval --model_type=efficientnet --dataset=imagenet --model_dir=$HOME/log_cpu --data_dir=$HOME --config_file=configs/examples/efficientnet/imagenet/efficientnet-b0-gpu.yaml"
   ]
  },
  {
   "cell_type": "markdown",
   "id": "2ea4212d",
   "metadata": {},
   "source": [
    "## Enable EfficientNet training on HPU with synthetic data by modifying  `classifier_trainer.py`:\n",
    "\n",
    "[classifier_trainer.py](../edit/models/official/vision/image_classification/classifier_trainer.py)\n",
    "   * Line 443:  Insert the following 3 lines of code:\n",
    "   ```\n",
    "   from TensorFlow.common.library_loader import load_habana_module\n",
    "log_info_devices = load_habana_module()\n",
    "logging.info('Devices:\\n%s', log_info_devices)\n",
    "   ```\n",
    "   \n",
    "   Save the file."
   ]
  },
  {
   "cell_type": "markdown",
   "id": "8bf7b55b",
   "metadata": {},
   "source": [
    "## Launch the training on HPU and check the performance in the output."
   ]
  },
  {
   "cell_type": "code",
   "execution_count": null,
   "id": "52f63754",
   "metadata": {},
   "outputs": [],
   "source": [
    "!python3 classifier_trainer.py --mode=train_and_eval --model_type=efficientnet --dataset=imagenet --model_dir=$HOME/log_hpu --data_dir=$HOME --config_file=configs/examples/efficientnet/imagenet/efficientnet-b0-gpu.yaml"
   ]
  },
  {
   "cell_type": "code",
   "execution_count": null,
   "id": "e1f46080",
   "metadata": {},
   "outputs": [],
   "source": []
  }
 ],
 "metadata": {
  "kernelspec": {
   "display_name": "Python 3 (ipykernel)",
   "language": "python",
   "name": "python3"
  },
  "language_info": {
   "codemirror_mode": {
    "name": "ipython",
    "version": 3
   },
   "file_extension": ".py",
   "mimetype": "text/x-python",
   "name": "python",
   "nbconvert_exporter": "python",
   "pygments_lexer": "ipython3",
   "version": "3.8.10"
  }
 },
 "nbformat": 4,
 "nbformat_minor": 5
}
