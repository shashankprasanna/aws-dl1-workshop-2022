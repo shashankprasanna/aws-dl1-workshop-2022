{
 "cells": [
  {
   "cell_type": "markdown",
   "id": "d530e585",
   "metadata": {},
   "source": [
    "# Migrating TensorFlow EfficientNet to Habana Gaudi<sup>TM</sup>"
   ]
  },
  {
   "cell_type": "markdown",
   "id": "372a928f",
   "metadata": {},
   "source": [
    "In this Jupyter notebook, we will learn how to migrate EfficientNet in public TensorFlow [model garden](https://github.com/tensorflow/models/tree/master/official/vision/image_classification) to Habana Gaudi<sup>TM</sup> device with very limited code changes. We will first modify an existing YAML configuration file for GPU and enable the model training on CPU. Then we will add code to the training script to load Habana software modules and enable it on HPU."
   ]
  },
  {
   "cell_type": "markdown",
   "id": "073c4547",
   "metadata": {},
   "source": [
    "First of all, check the current directory to prepare for cloning TensorFlow model's repository."
   ]
  },
  {
   "cell_type": "code",
   "execution_count": null,
   "id": "904c9ba3",
   "metadata": {},
   "outputs": [],
   "source": [
    "%pwd"
   ]
  },
  {
   "cell_type": "markdown",
   "id": "3b71532f",
   "metadata": {},
   "source": [
    "Then, we will clone TensorFlow [models](https://github.com/tensorflow/models.git)  repository to the current directory."
   ]
  },
  {
   "cell_type": "code",
   "execution_count": null,
   "id": "95020dd2",
   "metadata": {},
   "outputs": [],
   "source": [
    "!git clone https://github.com/tensorflow/models.git"
   ]
  },
  {
   "cell_type": "markdown",
   "id": "44ba6893",
   "metadata": {},
   "source": [
    "We need to download Habana software packages as the dependency to enable EfficientNet on HPU. So we will clone Habana [Model-References](https://github.com/HabanaAI/Model-References.git) repository branch 0.15.4 to the current directory. If you have already cloned this repository to your local directory, skip the following cell."
   ]
  },
  {
   "cell_type": "code",
   "execution_count": null,
   "id": "487a27e6",
   "metadata": {},
   "outputs": [],
   "source": [
    "!git clone -b 0.15.4 https://github.com/HabanaAI/Model-References.git"
   ]
  },
  {
   "cell_type": "markdown",
   "id": "591b7252",
   "metadata": {},
   "source": [
    "Verify if both repositories were cloned successfully in the current location."
   ]
  },
  {
   "cell_type": "code",
   "execution_count": null,
   "id": "6a9e909d",
   "metadata": {},
   "outputs": [],
   "source": [
    "%ls"
   ]
  },
  {
   "cell_type": "markdown",
   "id": "b28547b6",
   "metadata": {},
   "source": [
    "Set Python3.7 as executable Python for EfficientNet training since in this DLAMI, the Deep Learning packages were installed under Python3.7 location."
   ]
  },
  {
   "cell_type": "code",
   "execution_count": null,
   "id": "01945615",
   "metadata": {},
   "outputs": [],
   "source": [
    "!which python3.7"
   ]
  },
  {
   "cell_type": "code",
   "execution_count": null,
   "id": "bc6bd96c",
   "metadata": {},
   "outputs": [],
   "source": [
    "%set_env PYTHON=/usr/bin/python3.7"
   ]
  },
  {
   "cell_type": "markdown",
   "id": "23c4643b",
   "metadata": {},
   "source": [
    "Check if Python3.7 was set to executable Python successfully."
   ]
  },
  {
   "cell_type": "code",
   "execution_count": null,
   "id": "e51a21fe",
   "metadata": {},
   "outputs": [],
   "source": [
    "!$PYTHON --version"
   ]
  },
  {
   "cell_type": "markdown",
   "id": "86a6d3cd",
   "metadata": {},
   "source": [
    "Check if the current PYTHONPATH contains TensorFlow `models` location and Habana `Model-References` location."
   ]
  },
  {
   "cell_type": "code",
   "execution_count": null,
   "id": "25957b5d",
   "metadata": {},
   "outputs": [],
   "source": [
    "%env PYTHONPATH"
   ]
  },
  {
   "cell_type": "markdown",
   "id": "a5a1ad29",
   "metadata": {},
   "source": [
    "If PYTHONPATH doesn't include TensorFlow `models` repository and Habana `Model-References` repository locations, then add them. The following command assumes the repositories were cloned to `/home/ubuntu/` directory. Modify it accordingly if they are located in a difference folder."
   ]
  },
  {
   "cell_type": "code",
   "execution_count": null,
   "id": "f5844e38",
   "metadata": {},
   "outputs": [],
   "source": [
    "%set_env PYTHONPATH=/home/ubuntu/Model-References:/home/ubuntu/models"
   ]
  },
  {
   "cell_type": "markdown",
   "id": "1ab17121",
   "metadata": {},
   "source": [
    "Verify if the repository locations were added to the PYTHONPATH with the command above."
   ]
  },
  {
   "cell_type": "code",
   "execution_count": null,
   "id": "209403a6",
   "metadata": {},
   "outputs": [],
   "source": [
    "%env PYTHONPATH"
   ]
  },
  {
   "cell_type": "markdown",
   "id": "55dd81de",
   "metadata": {},
   "source": [
    "We will be using Keras EfficientNet at https://github.com/tensorflow/models/tree/master/official/vision/image_classification as the example to show how to enable a public model on Habana Gaudi device. \n",
    "\n",
    "EfficientNet is a convolutional neural network architecture and scaling method that uniformly scales all dimensions of depth/width/resolution using a compound coefficient. The model was first introduced by Tan et al. in [EfficientNet: Rethinking Model Scaling for Convolutional Neural Networks](https://arxiv.org/abs/1905.11946).  In this session, we are going to use EfficientNet baseline model EfficientNet-B0 as the training example.\n",
    "\n",
    "First of all, let's enable the training with synthetic data on CPU and check its performance."
   ]
  },
  {
   "cell_type": "code",
   "execution_count": null,
   "id": "6602635c",
   "metadata": {},
   "outputs": [],
   "source": [
    "%cd models/official/vision/image_classification"
   ]
  },
  {
   "cell_type": "code",
   "execution_count": null,
   "id": "1d8ceac1",
   "metadata": {},
   "outputs": [],
   "source": [
    "%ls"
   ]
  },
  {
   "cell_type": "markdown",
   "id": "5119e30a",
   "metadata": {},
   "source": [
    "In TensorFlow `model` repository, there are only EfficientNet configuration files for GPU and TPU under `configs` directory. We need to modify an existing configuration file for GPU to enable it on CPU.\n",
    "\n",
    "Click the following file link and modify the contents with the suggestions as below:\n",
    "\n",
    "[configs/examples/efficientnet/imagenet/efficientnet-b0-gpu.yaml](../edit/models/official/vision/image_classification/configs/examples/efficientnet/imagenet/efficientnet-b0-gpu.yaml)\n",
    "   * Line 6:  change distribution_strategy to `off`\n",
    "   * Line 7:  change num_gpus to `0`\n",
    "   * Line 11: change builder to `synthetic`\n",
    "   * Line 23: change builder to `synthetic`\n",
    "   * Line 50: insert `steps: 1000`\n",
    "   * Line 51: change epochs to `1`\n",
    "   * Line 53: insert `skip_eval: True`\n",
    "   \n",
    "Save the file.\n",
    "\n",
    "The modified configuration file looks as below:\n",
    "\n",
    "<img src=\"enet_config.png\" alt=\"efficientnet_config\" align=\"left\" width=\"700\"/>\n"
   ]
  },
  {
   "cell_type": "markdown",
   "id": "4bf7c9b7",
   "metadata": {},
   "source": [
    "After we modify the EfficientNet configuration file above, we can run the following command to launch the training on CPU for 1000 iterations. We will skip evaluations in order to focus on training. Check the throughput for performance in the output log."
   ]
  },
  {
   "cell_type": "code",
   "execution_count": null,
   "id": "4990eaad",
   "metadata": {},
   "outputs": [],
   "source": [
    "!$PYTHON classifier_trainer.py --mode=train_and_eval --model_type=efficientnet --dataset=imagenet --model_dir=$HOME/log_cpu --data_dir=$HOME --config_file=configs/examples/efficientnet/imagenet/efficientnet-b0-gpu.yaml"
   ]
  },
  {
   "cell_type": "markdown",
   "id": "a3fbefa6",
   "metadata": {},
   "source": [
    "From the output log above, we can see that the throughput for EfficientNet-B0 training on CPU with synthetic data is around `42 examples/sec`."
   ]
  },
  {
   "cell_type": "markdown",
   "id": "2ea4212d",
   "metadata": {},
   "source": [
    "Now, let's modify the traning script and enable the model on Habana Gaudi device.\n",
    "\n",
    "Click [classifier_trainer.py](../edit/models/official/vision/image_classification/classifier_trainer.py) link and edit it according to the instructions as below.\n",
    "\n",
    "   * Line 443:  Insert the following 3 lines of code:\n",
    "   ```\n",
    "   from TensorFlow.common.library_loader import load_habana_module\n",
    "log_info_devices = load_habana_module()\n",
    "logging.info('Devices:\\n%s', log_info_devices)\n",
    "   ```\n",
    "   \n",
    "Save the file.\n"
   ]
  },
  {
   "cell_type": "markdown",
   "id": "cfdae9b2",
   "metadata": {},
   "source": [
    "The modified training script looks as below:\n",
    "\n",
    "<img src=\"enet_script.png\" alt=\"efficientnet_script\" align=\"left\" width=\"600\"/>\n"
   ]
  },
  {
   "cell_type": "markdown",
   "id": "fcf16a89",
   "metadata": {},
   "source": [
    "The 3 lines code above will load Habana software modules so that Habana Gaudi device will be aquired in the beginning of workload running, and EfficientNet training can be deployed and performed on Habana Gaudi device. This is all you need to do to enable EfficientNet on HPU."
   ]
  },
  {
   "cell_type": "markdown",
   "id": "8bf7b55b",
   "metadata": {},
   "source": [
    "Now, run the following command to launch the training on HPU and check the performance in the output."
   ]
  },
  {
   "cell_type": "code",
   "execution_count": null,
   "id": "52f63754",
   "metadata": {},
   "outputs": [],
   "source": [
    "!$PYTHON classifier_trainer.py --mode=train_and_eval --model_type=efficientnet --dataset=imagenet --model_dir=$HOME/log_hpu --data_dir=$HOME --config_file=configs/examples/efficientnet/imagenet/efficientnet-b0-gpu.yaml"
   ]
  },
  {
   "cell_type": "markdown",
   "id": "9bdcf668",
   "metadata": {},
   "source": [
    "From the output log above, we can see that the throughput for EfficientNet-B0 training on Habana Gaudi with synthetic data is around `360 examples/sec`."
   ]
  },
  {
   "cell_type": "code",
   "execution_count": null,
   "id": "afcbd1fd",
   "metadata": {},
   "outputs": [],
   "source": []
  }
 ],
 "metadata": {
  "kernelspec": {
   "display_name": "Python 3 (ipykernel)",
   "language": "python",
   "name": "python3"
  },
  "language_info": {
   "codemirror_mode": {
    "name": "ipython",
    "version": 3
   },
   "file_extension": ".py",
   "mimetype": "text/x-python",
   "name": "python",
   "nbconvert_exporter": "python",
   "pygments_lexer": "ipython3",
   "version": "3.7.5"
  }
 },
 "nbformat": 4,
 "nbformat_minor": 5
}
