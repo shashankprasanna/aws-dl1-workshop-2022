{
 "cells": [
  {
   "cell_type": "markdown",
   "id": "irish-scheduling",
   "metadata": {},
   "source": [
    "# TensorFlow Keras MNIST Example on Habana Gaudi<sup>TM</sup>\n",
    "\n",
    "This Jupyter Notebook example demonstrates how to train a simple neural network on Habana Gaudi<sup>TM</sup> card. The neural network is built with Keras APIs, and trained with MNIST dataset.\n"
   ]
  },
  {
   "cell_type": "code",
   "execution_count": 1,
   "id": "339a995a",
   "metadata": {},
   "outputs": [
    {
     "data": {
      "text/plain": [
       "'/home/ubuntu'"
      ]
     },
     "execution_count": 1,
     "metadata": {},
     "output_type": "execute_result"
    }
   ],
   "source": [
    "%pwd"
   ]
  },
  {
   "cell_type": "code",
   "execution_count": 2,
   "id": "6f4c0cf5",
   "metadata": {},
   "outputs": [
    {
     "name": "stdout",
     "output_type": "stream",
     "text": [
      "BUILD_FROM_SOURCE_PACKAGES_LICENCES  THIRD_PARTY_SOURCE_CODE_URLS\r\n",
      "LINUX_PACKAGES_LICENSES\t\t     resnet50_keras_example.ipynb\r\n",
      "LINUX_PACKAGES_LIST\t\t     resnet50_keras_lars_bf16_1card.yaml\r\n",
      "PYTHON_PACKAGES_LICENSES\t     tf_mnist.ipynb\r\n"
     ]
    }
   ],
   "source": [
    "!ls"
   ]
  },
  {
   "cell_type": "markdown",
   "id": "16a3ef85",
   "metadata": {},
   "source": [
    "We will clone Habana `Model-References` repository 0.15.4 branch to the current directory."
   ]
  },
  {
   "cell_type": "code",
   "execution_count": 3,
   "id": "df95d0d0",
   "metadata": {},
   "outputs": [
    {
     "name": "stdout",
     "output_type": "stream",
     "text": [
      "Cloning into 'Model-References'...\n",
      "remote: Enumerating objects: 5011, done.\u001b[K\n",
      "remote: Counting objects: 100% (2786/2786), done.\u001b[K\n",
      "remote: Compressing objects: 100% (2035/2035), done.\u001b[K\n",
      "remote: Total 5011 (delta 1148), reused 2149 (delta 696), pack-reused 2225\u001b[K\n",
      "Receiving objects: 100% (5011/5011), 64.04 MiB | 51.11 MiB/s, done.\n",
      "Resolving deltas: 100% (1951/1951), done.\n"
     ]
    }
   ],
   "source": [
    "!git clone -b 0.15.4 https://github.com/HabanaAI/Model-References.git"
   ]
  },
  {
   "cell_type": "markdown",
   "id": "3e6e0f6f",
   "metadata": {},
   "source": [
    "Check if we have cloned the repository successfully."
   ]
  },
  {
   "cell_type": "code",
   "execution_count": 4,
   "id": "85f36430",
   "metadata": {},
   "outputs": [
    {
     "name": "stdout",
     "output_type": "stream",
     "text": [
      "BUILD_FROM_SOURCE_PACKAGES_LICENCES  THIRD_PARTY_SOURCE_CODE_URLS\r\n",
      "LINUX_PACKAGES_LICENSES              resnet50_keras_example.ipynb\r\n",
      "LINUX_PACKAGES_LIST                  resnet50_keras_lars_bf16_1card.yaml\r\n",
      "\u001b[0m\u001b[01;34mModel-References\u001b[0m/                    tf_mnist.ipynb\r\n",
      "PYTHON_PACKAGES_LICENSES\r\n"
     ]
    }
   ],
   "source": [
    "%ls"
   ]
  },
  {
   "cell_type": "markdown",
   "id": "7f327488",
   "metadata": {},
   "source": [
    "Now let's check if `Model-References` repository location is in the sys.path. If not, then add it."
   ]
  },
  {
   "cell_type": "code",
   "execution_count": 5,
   "id": "49d3887e",
   "metadata": {},
   "outputs": [
    {
     "data": {
      "text/plain": [
       "['/home/ubuntu',\n",
       " '/usr/lib/python37.zip',\n",
       " '/usr/lib/python3.7',\n",
       " '/usr/lib/python3.7/lib-dynload',\n",
       " '',\n",
       " '/home/ubuntu/.local/lib/python3.7/site-packages',\n",
       " '/usr/local/lib/python3.7/dist-packages',\n",
       " '/usr/lib/python3/dist-packages',\n",
       " '/usr/local/lib/python3.7/dist-packages/IPython/extensions',\n",
       " '/home/ubuntu/.ipython']"
      ]
     },
     "execution_count": 5,
     "metadata": {},
     "output_type": "execute_result"
    }
   ],
   "source": [
    "import sys\n",
    "sys.path"
   ]
  },
  {
   "cell_type": "markdown",
   "id": "e7e57b01",
   "metadata": {},
   "source": [
    "Add `Model-References` location location to the sys.path so that the dependent Python packages in `Model-References` repository are loaded for ResNet50 training."
   ]
  },
  {
   "cell_type": "code",
   "execution_count": 6,
   "id": "42b4f4b4",
   "metadata": {},
   "outputs": [
    {
     "data": {
      "text/plain": [
       "['/home/ubuntu',\n",
       " '/usr/lib/python37.zip',\n",
       " '/usr/lib/python3.7',\n",
       " '/usr/lib/python3.7/lib-dynload',\n",
       " '',\n",
       " '/home/ubuntu/.local/lib/python3.7/site-packages',\n",
       " '/usr/local/lib/python3.7/dist-packages',\n",
       " '/usr/lib/python3/dist-packages',\n",
       " '/usr/local/lib/python3.7/dist-packages/IPython/extensions',\n",
       " '/home/ubuntu/.ipython',\n",
       " '/home/ubuntu/Model-References']"
      ]
     },
     "execution_count": 6,
     "metadata": {},
     "output_type": "execute_result"
    }
   ],
   "source": [
    "sys.path.append('/home/ubuntu/Model-References')\n",
    "sys.path"
   ]
  },
  {
   "cell_type": "markdown",
   "id": "9ec4bf6d",
   "metadata": {},
   "source": [
    "Now let's build a neural network and enable it on HPU.\n",
    "\n",
    "First of all, import dependent packages."
   ]
  },
  {
   "cell_type": "code",
   "execution_count": 7,
   "id": "postal-productivity",
   "metadata": {},
   "outputs": [
    {
     "name": "stderr",
     "output_type": "stream",
     "text": [
      "2021-11-16 20:47:42.335801: W tensorflow/core/profiler/internal/smprofiler_timeline.cc:460] Initializing the SageMaker Profiler.\n",
      "2021-11-16 20:47:42.335894: W tensorflow/core/profiler/internal/smprofiler_timeline.cc:105] SageMaker Profiler is not enabled. The timeline writer thread will not be started, future recorded events will be dropped.\n",
      "2021-11-16 20:47:42.357561: W tensorflow/core/profiler/internal/smprofiler_timeline.cc:460] Initializing the SageMaker Profiler.\n"
     ]
    }
   ],
   "source": [
    "import tensorflow as tf"
   ]
  },
  {
   "cell_type": "markdown",
   "id": "incident-hacker",
   "metadata": {},
   "source": [
    "Disable TensorFlow eager mode if running TF 2.x."
   ]
  },
  {
   "cell_type": "code",
   "execution_count": 8,
   "id": "advance-cabinet",
   "metadata": {},
   "outputs": [],
   "source": [
    "tf.compat.v1.disable_eager_execution()"
   ]
  },
  {
   "cell_type": "markdown",
   "id": "bigger-intervention",
   "metadata": {},
   "source": [
    "Load Habana TensorFlow software modules."
   ]
  },
  {
   "cell_type": "code",
   "execution_count": 9,
   "id": "large-content",
   "metadata": {},
   "outputs": [
    {
     "name": "stderr",
     "output_type": "stream",
     "text": [
      "2021-11-16 20:47:47.972003: I tensorflow/core/platform/cpu_feature_guard.cc:142] This TensorFlow binary is optimized with oneAPI Deep Neural Network Library (oneDNN) to use the following CPU instructions in performance-critical operations:  AVX512F\n",
      "To enable them in other operations, rebuild TensorFlow with the appropriate compiler flags.\n"
     ]
    },
    {
     "data": {
      "text/plain": [
       "[name: \"/device:CPU:0\"\n",
       " device_type: \"CPU\"\n",
       " memory_limit: 268435456\n",
       " locality {\n",
       " }\n",
       " incarnation: 13765085378285791497,\n",
       " name: \"/device:HPU:0\"\n",
       " device_type: \"HPU\"\n",
       " memory_limit: 268435456\n",
       " locality {\n",
       " }\n",
       " incarnation: 13815380069492528153]"
      ]
     },
     "execution_count": 9,
     "metadata": {},
     "output_type": "execute_result"
    }
   ],
   "source": [
    "from TensorFlow.common.library_loader import load_habana_module\n",
    "load_habana_module()"
   ]
  },
  {
   "cell_type": "markdown",
   "id": "loaded-malta",
   "metadata": {},
   "source": [
    "Download MNIST dataset and split the dataset for training and testing separately. "
   ]
  },
  {
   "cell_type": "code",
   "execution_count": 10,
   "id": "duplicate-auckland",
   "metadata": {},
   "outputs": [],
   "source": [
    "(x_train, y_train), (x_test, y_test) = tf.keras.datasets.mnist.load_data()\n",
    "x_train, x_test = x_train / 255.0, x_test / 255.0"
   ]
  },
  {
   "cell_type": "markdown",
   "id": "acceptable-strength",
   "metadata": {},
   "source": [
    "Build a simple neural network with Keras APIs."
   ]
  },
  {
   "cell_type": "code",
   "execution_count": 11,
   "id": "negative-pakistan",
   "metadata": {},
   "outputs": [],
   "source": [
    "model = tf.keras.models.Sequential([\n",
    "    tf.keras.layers.Flatten(input_shape=(28, 28)),\n",
    "    tf.keras.layers.Dense(10),\n",
    "])\n",
    "\n",
    "loss = tf.keras.losses.SparseCategoricalCrossentropy(from_logits=True)\n",
    "optimizer = tf.keras.optimizers.SGD(learning_rate=0.01)\n",
    "model.compile(optimizer=optimizer, loss=loss, metrics=['accuracy'])"
   ]
  },
  {
   "cell_type": "markdown",
   "id": "central-unknown",
   "metadata": {},
   "source": [
    "Train the model for 5 epochs with batch size of 128 "
   ]
  },
  {
   "cell_type": "code",
   "execution_count": 12,
   "id": "geographic-washer",
   "metadata": {},
   "outputs": [
    {
     "name": "stdout",
     "output_type": "stream",
     "text": [
      "Train on 60000 samples\n"
     ]
    },
    {
     "name": "stderr",
     "output_type": "stream",
     "text": [
      "2021-11-16 20:48:02.457201: I tensorflow/core/platform/profile_utils/cpu_utils.cc:114] CPU Frequency: 2999995000 Hz\n"
     ]
    },
    {
     "name": "stdout",
     "output_type": "stream",
     "text": [
      "Epoch 1/5\n",
      "60000/60000 [==============================] - 4s 64us/sample - loss: 1.2736 - accuracy: 0.7161\n",
      "Epoch 2/5\n",
      "60000/60000 [==============================] - 1s 19us/sample - loss: 0.7123 - accuracy: 0.8433\n",
      "Epoch 3/5\n",
      "60000/60000 [==============================] - 1s 19us/sample - loss: 0.5842 - accuracy: 0.8603\n",
      "Epoch 4/5\n",
      "60000/60000 [==============================] - 1s 19us/sample - loss: 0.5230 - accuracy: 0.8699\n",
      "Epoch 5/5\n",
      "60000/60000 [==============================] - 1s 18us/sample - loss: 0.4858 - accuracy: 0.8763\n"
     ]
    },
    {
     "data": {
      "text/plain": [
       "<tensorflow.python.keras.callbacks.History at 0x7f26a5942550>"
      ]
     },
     "execution_count": 12,
     "metadata": {},
     "output_type": "execute_result"
    }
   ],
   "source": [
    "model.fit(x_train, y_train, epochs=5, batch_size=128)"
   ]
  },
  {
   "cell_type": "markdown",
   "id": "variable-shareware",
   "metadata": {},
   "source": [
    "Evaluate the model with test dataset, output is in the format of [loss, accuracy]"
   ]
  },
  {
   "cell_type": "code",
   "execution_count": 13,
   "id": "annoying-tsunami",
   "metadata": {},
   "outputs": [
    {
     "name": "stderr",
     "output_type": "stream",
     "text": [
      "/usr/local/lib/python3.7/dist-packages/tensorflow/python/keras/engine/training.py:2486: UserWarning: `Model.state_updates` will be removed in a future version. This property should not be used in TensorFlow 2.0, as `updates` are applied automatically.\n",
      "  warnings.warn('`Model.state_updates` will be removed in a future version. '\n"
     ]
    },
    {
     "data": {
      "text/plain": [
       "[0.44847774155139924, 0.8872]"
      ]
     },
     "execution_count": 13,
     "metadata": {},
     "output_type": "execute_result"
    }
   ],
   "source": [
    "model.evaluate(x_test, y_test)"
   ]
  },
  {
   "cell_type": "code",
   "execution_count": null,
   "id": "1f14f248",
   "metadata": {},
   "outputs": [],
   "source": []
  },
  {
   "cell_type": "code",
   "execution_count": null,
   "id": "cbc70a90",
   "metadata": {},
   "outputs": [],
   "source": []
  }
 ],
 "metadata": {
  "kernelspec": {
   "display_name": "Python 3 (ipykernel)",
   "language": "python",
   "name": "python3"
  },
  "language_info": {
   "codemirror_mode": {
    "name": "ipython",
    "version": 3
   },
   "file_extension": ".py",
   "mimetype": "text/x-python",
   "name": "python",
   "nbconvert_exporter": "python",
   "pygments_lexer": "ipython3",
   "version": "3.7.5"
  }
 },
 "nbformat": 4,
 "nbformat_minor": 5
}
